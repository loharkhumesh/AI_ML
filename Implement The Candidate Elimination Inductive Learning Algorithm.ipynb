{
 "cells": [
  {
   "cell_type": "code",
   "execution_count": 9,
   "id": "f0b0b8a4",
   "metadata": {},
   "outputs": [],
   "source": [
    "#Implement The Candidate Elimination Inductive Learning Algorithm"
   ]
  },
  {
   "cell_type": "code",
   "execution_count": 10,
   "id": "be0060c5",
   "metadata": {},
   "outputs": [],
   "source": [
    "import pandas as pd\n",
    "import numpy as np"
   ]
  },
  {
   "cell_type": "code",
   "execution_count": 14,
   "id": "f1b649a0",
   "metadata": {
    "scrolled": true
   },
   "outputs": [
    {
     "name": "stdout",
     "output_type": "stream",
     "text": [
      "Instances are:\n",
      " [[1 'Sunny' 'Warm' 'Normal' 'Strong' 'Warm' 'Same']\n",
      " [2 'Sunny' 'Warm' 'High' 'Strong' 'Warm' 'Same']\n",
      " [3 'Rainy' 'Cold' 'High' 'Strong' 'Warm' 'Change']\n",
      " [4 'Sunny' 'Warm' 'High' 'Strong' 'Cool' 'Change']]\n",
      "\n",
      "Target Values are: ['Yes' 'Yes' 'No' 'Yes']\n"
     ]
    }
   ],
   "source": [
    "data =pd.read_csv('enjoysport.csv')\n",
    "concepts=np.array(data.iloc[:, :-1])\n",
    "print(\"Instances are:\\n\",concepts)\n",
    "target=np.array(data.iloc[:,-1])\n",
    "print(\"\\nTarget Values are:\",target)"
   ]
  },
  {
   "cell_type": "code",
   "execution_count": 12,
   "id": "d4c34c66",
   "metadata": {},
   "outputs": [
    {
     "name": "stdout",
     "output_type": "stream",
     "text": [
      "\n",
      "Initialization of specific_h and general_h\n",
      "\n",
      "Specific Boundary: [1 'Sunny' 'Warm' 'Normal' 'Strong' 'Warm' 'Same']\n",
      "\n",
      "Generic Boundary: [['?', '?', '?', '?', '?', '?', '?'], ['?', '?', '?', '?', '?', '?', '?'], ['?', '?', '?', '?', '?', '?', '?'], ['?', '?', '?', '?', '?', '?', '?'], ['?', '?', '?', '?', '?', '?', '?'], ['?', '?', '?', '?', '?', '?', '?'], ['?', '?', '?', '?', '?', '?', '?']]\n",
      "\n",
      "Instance 1 is  [1 'Sunny' 'Warm' 'Normal' 'Strong' 'Warm' 'Same']\n",
      "Instance is Positive\n",
      "Specific Boundary after 1 Instance is [1 'Sunny' 'Warm' 'Normal' 'Strong' 'Warm' 'Same']\n",
      "Generic Boundary after 1 Instance is [['?', '?', '?', '?', '?', '?', '?'], ['?', '?', '?', '?', '?', '?', '?'], ['?', '?', '?', '?', '?', '?', '?'], ['?', '?', '?', '?', '?', '?', '?'], ['?', '?', '?', '?', '?', '?', '?'], ['?', '?', '?', '?', '?', '?', '?'], ['?', '?', '?', '?', '?', '?', '?']]\n",
      "\n",
      "Instance 2 is  [2 'Sunny' 'Warm' 'High' 'Strong' 'Warm' 'Same']\n",
      "Instance is Positive\n",
      "Specific Boundary after 2 Instance is ['?' 'Sunny' 'Warm' '?' 'Strong' 'Warm' 'Same']\n",
      "Generic Boundary after 2 Instance is [['?', '?', '?', '?', '?', '?', '?'], ['?', '?', '?', '?', '?', '?', '?'], ['?', '?', '?', '?', '?', '?', '?'], ['?', '?', '?', '?', '?', '?', '?'], ['?', '?', '?', '?', '?', '?', '?'], ['?', '?', '?', '?', '?', '?', '?'], ['?', '?', '?', '?', '?', '?', '?']]\n",
      "\n",
      "Instance 3 is  [3 'Rainy' 'Cold' 'High' 'Strong' 'Warm' 'Change']\n",
      "Instacne is Negative\n",
      "Specific Boundary after 3 Instance is ['?' 'Sunny' 'Warm' '?' 'Strong' 'Warm' 'Same']\n",
      "Generic Boundary after 3 Instance is [['?', '?', '?', '?', '?', '?', '?'], ['?', 'Sunny', '?', '?', '?', '?', '?'], ['?', '?', 'Warm', '?', '?', '?', '?'], ['?', '?', '?', '?', '?', '?', '?'], ['?', '?', '?', '?', '?', '?', '?'], ['?', '?', '?', '?', '?', '?', '?'], ['?', '?', '?', '?', '?', '?', 'Same']]\n",
      "\n",
      "Instance 4 is  [4 'Sunny' 'Warm' 'High' 'Strong' 'Cool' 'Change']\n",
      "Instance is Positive\n",
      "Specific Boundary after 4 Instance is ['?' 'Sunny' 'Warm' '?' 'Strong' '?' '?']\n",
      "Generic Boundary after 4 Instance is [['?', '?', '?', '?', '?', '?', '?'], ['?', 'Sunny', '?', '?', '?', '?', '?'], ['?', '?', 'Warm', '?', '?', '?', '?'], ['?', '?', '?', '?', '?', '?', '?'], ['?', '?', '?', '?', '?', '?', '?'], ['?', '?', '?', '?', '?', '?', '?'], ['?', '?', '?', '?', '?', '?', '?']]\n",
      "Final Specific_h:\n",
      "['?' 'Sunny' 'Warm' '?' 'Strong' '?' '?']\n",
      "Final General_h:\n",
      "[['?', '?', '?', '?', '?', '?', '?'], ['?', 'Sunny', '?', '?', '?', '?', '?'], ['?', '?', 'Warm', '?', '?', '?', '?'], ['?', '?', '?', '?', '?', '?', '?'], ['?', '?', '?', '?', '?', '?', '?'], ['?', '?', '?', '?', '?', '?', '?'], ['?', '?', '?', '?', '?', '?', '?']]\n"
     ]
    }
   ],
   "source": [
    "def learn(concepts,target):\n",
    "    specific_h = concepts[0].copy()\n",
    "    print(\"\\nInitialization of specific_h and general_h\")\n",
    "    print(\"\\nSpecific Boundary:\",specific_h)\n",
    "    general_h=[[\"?\" for i in range(len(specific_h))] \n",
    "               for i in range(len(specific_h))]\n",
    "    print(\"\\nGeneric Boundary:\",general_h)\n",
    "    for i, h in enumerate(concepts):\n",
    "        print(\"\\nInstance\", i+1 ,\"is \", h)\n",
    "        if target[i] == \"Yes\":\n",
    "            print(\"Instance is Positive\")\n",
    "            for x in range(len(specific_h)):\n",
    "                if h[x] != specific_h[x]:\n",
    "                    specific_h[x]='?'\n",
    "                    general_h[x][x]='?'\n",
    "        if target[i] == \"No\":\n",
    "            print(\"Instacne is Negative\")\n",
    "            for x in range(len(specific_h)):\n",
    "                if h[x] != specific_h[x]:\n",
    "                    general_h[x][x]= specific_h[x]\n",
    "                else:\n",
    "                    general_h[x][x]= '?'\n",
    "        print(\"Specific Boundary after\",i+1,\"Instance is\",specific_h)\n",
    "        print(\"Generic Boundary after\",i+1,\"Instance is\",general_h)\n",
    "    indices = [ i for i, val in enumerate(general_h) \n",
    "               if val == ['?','?','?','?','?','?']]\n",
    "    for i in indices:\n",
    "        general_h.remove(['?','?','?','?','?','?'])\n",
    "    return specific_h, general_h\n",
    "s_final, g_final = learn(concepts, target)\n",
    "print(\"Final Specific_h:\",s_final, sep=\"\\n\")\n",
    "print(\"Final General_h:\",g_final, sep=\"\\n\")"
   ]
  }
 ],
 "metadata": {
  "kernelspec": {
   "display_name": "Python 3 (ipykernel)",
   "language": "python",
   "name": "python3"
  },
  "language_info": {
   "codemirror_mode": {
    "name": "ipython",
    "version": 3
   },
   "file_extension": ".py",
   "mimetype": "text/x-python",
   "name": "python",
   "nbconvert_exporter": "python",
   "pygments_lexer": "ipython3",
   "version": "3.10.9"
  }
 },
 "nbformat": 4,
 "nbformat_minor": 5
}
