{
 "cells": [
  {
   "cell_type": "code",
   "execution_count": 1,
   "id": "3b32859d",
   "metadata": {},
   "outputs": [],
   "source": [
    "import pandas as pd\n",
    "import numpy as np"
   ]
  },
  {
   "cell_type": "code",
   "execution_count": 10,
   "id": "4884f061",
   "metadata": {},
   "outputs": [
    {
     "name": "stdout",
     "output_type": "stream",
     "text": [
      "\n",
      " Instances are:\n",
      " [[1 'Sunny' 'Warm' 'Normal' 'Strong' 'Warm' 'Same' 'Yes']\n",
      " [2 'Sunny' 'Warm' 'High' 'Strong' 'Warm' 'Same' 'Yes']\n",
      " [3 'Rainy' 'Cold' 'High' 'Strong' 'Warm' 'Change' 'No']\n",
      " [4 'Sunny' 'Warm' 'High' 'Strong' 'Cool' 'Change' 'Yes']]\n",
      "\n",
      "maximally specific hypothesis: ['?', 'Sunny', 'Warm', '?', 'Strong', '?', '?']\n"
     ]
    }
   ],
   "source": [
    "h=['0','0','0','0','0','0','0']\n",
    "print(\"\\n Instances are:\\n\",concepts)\n",
    "\n",
    "for row in concepts:\n",
    "    if row[-1]=='Yes':\n",
    "        j=0\n",
    "        \n",
    "        for col in row:\n",
    "            if col != 'Yes':\n",
    "                if col != h[j] and h[j] =='0':\n",
    "                    h[j] = col\n",
    "                elif col != h[j] and h[j] != '0':\n",
    "                    h[j] ='?'\n",
    "            j = j + 1\n",
    "print('\\nmaximally specific hypothesis:',h)"
   ]
  },
  {
   "cell_type": "code",
   "execution_count": null,
   "id": "b6451145",
   "metadata": {},
   "outputs": [],
   "source": []
  }
 ],
 "metadata": {
  "kernelspec": {
   "display_name": "Python 3 (ipykernel)",
   "language": "python",
   "name": "python3"
  },
  "language_info": {
   "codemirror_mode": {
    "name": "ipython",
    "version": 3
   },
   "file_extension": ".py",
   "mimetype": "text/x-python",
   "name": "python",
   "nbconvert_exporter": "python",
   "pygments_lexer": "ipython3",
   "version": "3.10.9"
  }
 },
 "nbformat": 4,
 "nbformat_minor": 5
}
