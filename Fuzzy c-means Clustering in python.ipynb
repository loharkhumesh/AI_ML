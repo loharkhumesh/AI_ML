{
 "cells": [
  {
   "cell_type": "code",
   "execution_count": 17,
   "id": "cf5fcf5d",
   "metadata": {},
   "outputs": [],
   "source": [
    "import numpy as np\n",
    "import pandas as pd\n",
    "import skfuzzy as fuzz\n",
    "from skfuzzy import control as ctrl"
   ]
  },
  {
   "cell_type": "code",
   "execution_count": 18,
   "id": "ce0e4450",
   "metadata": {},
   "outputs": [],
   "source": [
    "np.random.seed(0)\n",
    "data = np.random.rand(100,2)"
   ]
  },
  {
   "cell_type": "code",
   "execution_count": 19,
   "id": "e92a3085",
   "metadata": {},
   "outputs": [],
   "source": [
    "n_clusters = 3 \n",
    "cntr, u, u0, d, jm, p, fpc = fuzz.cluster.cmeans(data.T, n_clusters, 2, error=0.005,maxiter=100)\n",
    "clusters_membership = np.argmax(u, axis =0)"
   ]
  },
  {
   "cell_type": "code",
   "execution_count": 25,
   "id": "4c33694e",
   "metadata": {},
   "outputs": [
    {
     "name": "stdout",
     "output_type": "stream",
     "text": [
      " cluster cenrters:\n",
      " [[0.22645397 0.71840176]\n",
      " [0.52083891 0.18668653]\n",
      " [0.76252289 0.60239021]]\n"
     ]
    }
   ],
   "source": [
    "print(' cluster cenrters:\\n',cntr)"
   ]
  },
  {
   "cell_type": "code",
   "execution_count": 27,
   "id": "43fa398a",
   "metadata": {},
   "outputs": [
    {
     "name": "stdout",
     "output_type": "stream",
     "text": [
      " Cluster membership:\n",
      " [2 2 0 0 2 2 2 1 0 2 2 0 0 0 1 0 0 0 2 2 1 1 2 1 1 2 1 1 1 1 1 1 0 1 1 2 2\n",
      " 1 1 1 1 0 1 1 2 0 0 1 1 1 1 2 0 2 0 0 1 2 2 2 2 2 0 0 1 2 1 2 2 2 2 0 2 0\n",
      " 2 0 0 0 2 1 2 2 2 0 1 1 1 1 0 1 0 1 2 2 1 1 0 2 1 0]\n"
     ]
    }
   ],
   "source": [
    "print(' Cluster membership:\\n',clusters_membership)"
   ]
  },
  {
   "cell_type": "code",
   "execution_count": null,
   "id": "ff08e7cc",
   "metadata": {},
   "outputs": [],
   "source": []
  }
 ],
 "metadata": {
  "kernelspec": {
   "display_name": "Python 3 (ipykernel)",
   "language": "python",
   "name": "python3"
  },
  "language_info": {
   "codemirror_mode": {
    "name": "ipython",
    "version": 3
   },
   "file_extension": ".py",
   "mimetype": "text/x-python",
   "name": "python",
   "nbconvert_exporter": "python",
   "pygments_lexer": "ipython3",
   "version": "3.10.9"
  }
 },
 "nbformat": 4,
 "nbformat_minor": 5
}
