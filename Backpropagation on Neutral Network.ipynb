{
 "cells": [
  {
   "cell_type": "code",
   "execution_count": 14,
   "id": "49b4a291",
   "metadata": {},
   "outputs": [],
   "source": [
    "import numpy as np\n",
    "import pandas as pd\n",
    "from sklearn.datasets import load_iris\n",
    "from sklearn.model_selection import train_test_split\n",
    "import matplotlib.pyplot as plt\n"
   ]
  },
  {
   "cell_type": "code",
   "execution_count": 15,
   "id": "a60b5df5",
   "metadata": {},
   "outputs": [],
   "source": [
    "data = load_iris()\n",
    "x = data.data\n",
    "y = data.target"
   ]
  },
  {
   "cell_type": "code",
   "execution_count": 16,
   "id": "e34766a9",
   "metadata": {},
   "outputs": [],
   "source": [
    "x_train,x_test,y_train,y_test = train_test_split(x, y, test_size = 20, random_state=4)"
   ]
  },
  {
   "cell_type": "code",
   "execution_count": 17,
   "id": "8fb34d63",
   "metadata": {},
   "outputs": [],
   "source": [
    "learning_rate=0.1\n",
    "iterations = 5000\n",
    "N = y_train.size\n",
    "input_size = 4\n",
    "hidden_size = 2\n",
    "output_size = 3 "
   ]
  },
  {
   "cell_type": "code",
   "execution_count": 18,
   "id": "e7d9be94",
   "metadata": {},
   "outputs": [],
   "source": [
    "np.random.seed(10)\n",
    "W1 = np.random.normal(scale = 0.5, size=(input_size, hidden_size))\n",
    "W2 = np.random.normal(scale = 0.5, size=(hidden_size, output_size))"
   ]
  },
  {
   "cell_type": "code",
   "execution_count": 19,
   "id": "ad7a31ac",
   "metadata": {},
   "outputs": [],
   "source": [
    "def sigmoid(x):\n",
    "    return 1 / (1 + np.exp(-x))\n",
    "\n",
    "def mean_sqaured_error(y_pred, y_true):\n",
    "    y_true_one_hot = np.eye(output_size)[y_true]\n",
    "    y_true_reshaped = y_true_one_hot.reshape(y_pred.shape)\n",
    "    error = ((y_pred - y_true_reshaped)**2).sum() / (2 * y_pred.size)\n",
    "    return error\n",
    "\n",
    "def accuracy(y_pred, y_true):\n",
    "    acc = y_pred.argmax(axis=1) == y_true.argmax(axis=1)\n",
    "    return acc.mean()\n",
    "\n",
    "results = pd.DataFrame(columns=[\"mse\",\"accuracy\"])"
   ]
  },
  {
   "cell_type": "code",
   "execution_count": 20,
   "id": "c2a86599",
   "metadata": {},
   "outputs": [],
   "source": [
    "for itr in range(iterations):\n",
    "    Z1 = np.dot(x_train, W1)\n",
    "    A1 = sigmoid(Z1)\n",
    "    Z2 = np.dot(A1,W2)\n",
    "    A2 = sigmoid(Z2)\n",
    "    \n",
    "mse = mean_sqaured_error(A2, y_train)\n",
    "acc = accuracy(np.eye(output_size)[y_train],A2)\n",
    "new_row = pd.DataFrame({\"mse\": [mse], \"accuracy\": [acc]})\n",
    "results = pd.concat([results, new_row],ignore_index=True)\n",
    "\n",
    "E1 = A2 - np.eye(output_size)[y_train]\n",
    "dW1 = E1 * A2 * (1 - A2)\n",
    "E2 = np.dot(dW1, W2.T)\n",
    "dW2 = E2 * A1 * (1 - A1)\n",
    "\n",
    "W2_update = np.dot(A1.T, dW1) / N\n",
    "W1_update = np.dot(x_train.T, dW2) / N\n",
    "W2 = W2 - learning_rate * W2_update\n",
    "W1 = W1 - learning_rate * W1_update\n"
   ]
  },
  {
   "cell_type": "code",
   "execution_count": 22,
   "id": "c228508e",
   "metadata": {},
   "outputs": [
    {
     "name": "stdout",
     "output_type": "stream",
     "text": [
      "Test accuracy: 0.35 \n"
     ]
    }
   ],
   "source": [
    "Z1 = np.dot(x_test, W1)\n",
    "A1 = sigmoid(Z1)\n",
    "Z2 = np.dot(A1, W2)\n",
    "A2 = sigmoid(Z2)\n",
    "test_acc = accuracy(np.eye(output_size)[y_test], A2)\n",
    "print(\"Test accuracy: {} \".format(test_acc))"
   ]
  },
  {
   "cell_type": "code",
   "execution_count": null,
   "id": "ee7a284f",
   "metadata": {},
   "outputs": [],
   "source": []
  }
 ],
 "metadata": {
  "kernelspec": {
   "display_name": "Python 3 (ipykernel)",
   "language": "python",
   "name": "python3"
  },
  "language_info": {
   "codemirror_mode": {
    "name": "ipython",
    "version": 3
   },
   "file_extension": ".py",
   "mimetype": "text/x-python",
   "name": "python",
   "nbconvert_exporter": "python",
   "pygments_lexer": "ipython3",
   "version": "3.10.9"
  }
 },
 "nbformat": 4,
 "nbformat_minor": 5
}
